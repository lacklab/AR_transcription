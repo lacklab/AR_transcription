{
 "cells": [
  {
   "cell_type": "markdown",
   "metadata": {},
   "source": [
    "# Overview for computational analyses for \"Decoding the Epigenetics and Chromatin Loop Dynamics of Androgen Receptor-Mediated Transcription\"\n",
    "\n",
    "### 1. Annotation of Cis-Regulatory Elements / Defining Background Genes\n",
    "\n",
    "### 2. Constructing the Graph Network \n",
    "\n",
    "### 3. Epigenetic changes of CREs and kinetic changes of enhancers of AR-regulated genes\n",
    "\n",
    "### 4. Calculation of chromatin contact frequency change \n",
    "\n",
    "### 5. Start-seq analysis\n",
    "\n",
    "### 6. Contact frequency, expression correlation \n",
    "\n",
    "### 7. Random Forest Regressor / Gini Index Analysis\n",
    "\n",
    "### 8. Circle Plots\n",
    "\n"
   ]
  }
 ],
 "metadata": {
  "language_info": {
   "name": "python"
  }
 },
 "nbformat": 4,
 "nbformat_minor": 2
}
